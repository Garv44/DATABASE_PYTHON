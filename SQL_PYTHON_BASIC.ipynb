{
 "cells": [
  {
   "cell_type": "code",
   "execution_count": 1,
   "id": "4e460109",
   "metadata": {},
   "outputs": [],
   "source": [
    "import mysql.connector as sql"
   ]
  },
  {
   "cell_type": "code",
   "execution_count": 4,
   "id": "8f0d9ab5",
   "metadata": {},
   "outputs": [
    {
     "name": "stdout",
     "output_type": "stream",
     "text": [
      "<mysql.connector.connection_cext.CMySQLConnection object at 0x000001496A0C1F10>\n"
     ]
    }
   ],
   "source": [
    "connection = sql.connect(\n",
    "    host=\"localhost\",\n",
    "    user=\"root\",\n",
    "    password=\"xxxx\"\n",
    "# database = \"base1\"\n",
    ")\n",
    "\n",
    "print(connection)"
   ]
  },
  {
   "cell_type": "code",
   "execution_count": 5,
   "id": "05238042",
   "metadata": {},
   "outputs": [],
   "source": [
    "cursor = connection.cursor()\n",
    "cursor.execute(\"CREATE DATABASE base1\")"
   ]
  },
  {
   "cell_type": "code",
   "execution_count": 6,
   "id": "ec4cff80",
   "metadata": {},
   "outputs": [],
   "source": [
    "cursor.execute('SHOW DATABASES')"
   ]
  },
  {
   "cell_type": "code",
   "execution_count": 7,
   "id": "c8c7e048",
   "metadata": {},
   "outputs": [
    {
     "name": "stdout",
     "output_type": "stream",
     "text": [
      "('base1',)\n",
      "('information_schema',)\n",
      "('mysql',)\n",
      "('performance_schema',)\n",
      "('sakila',)\n",
      "('sys',)\n",
      "('world',)\n"
     ]
    }
   ],
   "source": [
    "for x in cursor:\n",
    "    print(x)"
   ]
  },
  {
   "cell_type": "code",
   "execution_count": 8,
   "id": "8a3a487a",
   "metadata": {},
   "outputs": [],
   "source": [
    "cursor.execute('USE base1')"
   ]
  },
  {
   "cell_type": "code",
   "execution_count": 9,
   "id": "b2dbe0c9",
   "metadata": {},
   "outputs": [],
   "source": [
    "cursor.execute(\"CREATE TABLE student (id INT AUTO_INCREMENT PRIMARY KEY, name VARCHAR(50))\")"
   ]
  },
  {
   "cell_type": "code",
   "execution_count": 14,
   "id": "44f42c32",
   "metadata": {},
   "outputs": [],
   "source": [
    "query = \"INSERT INTO student (name) VALUES (%s)\"\n",
    "value = [\"JOHN\"]\n",
    "cursor.execute(query,value)"
   ]
  },
  {
   "cell_type": "code",
   "execution_count": 15,
   "id": "01299ec4",
   "metadata": {},
   "outputs": [],
   "source": [
    "cursor.execute(\"SELECT * FROM student\")"
   ]
  },
  {
   "cell_type": "code",
   "execution_count": 16,
   "id": "e8eef219",
   "metadata": {},
   "outputs": [
    {
     "data": {
      "text/plain": [
       "[(1, 'JOHN')]"
      ]
     },
     "execution_count": 16,
     "metadata": {},
     "output_type": "execute_result"
    }
   ],
   "source": [
    "cursor.fetchall()"
   ]
  },
  {
   "cell_type": "code",
   "execution_count": null,
   "id": "debefe55",
   "metadata": {},
   "outputs": [],
   "source": [
    "cursor.execute(\"SELECT * FROM student WHERE name = 'JOHN' \")"
   ]
  },
  {
   "cell_type": "code",
   "execution_count": null,
   "id": "5de0213d",
   "metadata": {},
   "outputs": [],
   "source": []
  }
 ],
 "metadata": {
  "kernelspec": {
   "display_name": "Python 3 (ipykernel)",
   "language": "python",
   "name": "python3"
  },
  "language_info": {
   "codemirror_mode": {
    "name": "ipython",
    "version": 3
   },
   "file_extension": ".py",
   "mimetype": "text/x-python",
   "name": "python",
   "nbconvert_exporter": "python",
   "pygments_lexer": "ipython3",
   "version": "3.9.12"
  }
 },
 "nbformat": 4,
 "nbformat_minor": 5
}
